{
 "cells": [
  {
   "cell_type": "markdown",
   "id": "0b8d686a",
   "metadata": {},
   "source": [
    "# Análisis ANOVA: Niveles de Experiencia y Satisfacción\n",
    "Este notebook analiza si existen diferencias significativas en la satisfacción entre usuarios con diferentes niveles de experiencia."
   ]
  },
  {
   "cell_type": "code",
   "execution_count": null,
   "id": "0c014cea",
   "metadata": {},
   "outputs": [],
   "source": [
    "import pandas as pd\n",
    "import matplotlib.pyplot as plt\n",
    "import seaborn as sns\n",
    "from scipy.stats import f_oneway\n",
    "\n",
    "# Configuración visual\n",
    "sns.set(style=\"whitegrid\")\n"
   ]
  },
  {
   "cell_type": "code",
   "execution_count": null,
   "id": "790dd497",
   "metadata": {},
   "outputs": [],
   "source": [
    "# Cargar datos desde GitHub\n",
    "url = \"https://raw.githubusercontent.com/ClaudixoPG/ESI_2025_S1/main/datasets/dataset_anova_experience_satisfaccion.xlsx\"\n",
    "df = pd.read_excel(url)\n",
    "df.head()\n"
   ]
  },
  {
   "cell_type": "code",
   "execution_count": null,
   "id": "bb5667ca",
   "metadata": {},
   "outputs": [],
   "source": [
    "# Verificar medias por grupo\n",
    "group_means = df.groupby(\"experience_level\")[\"satisfaction_score\"].mean()\n",
    "print(\"Media por nivel de experiencia:\")\n",
    "print(group_means)\n"
   ]
  },
  {
   "cell_type": "code",
   "execution_count": null,
   "id": "e9c1bc74",
   "metadata": {},
   "outputs": [],
   "source": [
    "# Separar grupos\n",
    "principiante = df[df[\"experience_level\"] == \"Principiante\"][\"satisfaction_score\"]\n",
    "intermedio = df[df[\"experience_level\"] == \"Intermedio\"][\"satisfaction_score\"]\n",
    "experto = df[df[\"experience_level\"] == \"Experto\"][\"satisfaction_score\"]\n",
    "\n",
    "# Realizar ANOVA\n",
    "f_stat, p_value = f_oneway(principiante, intermedio, experto)\n",
    "\n",
    "print(f\"Estadístico F: {f_stat:.2f}\")\n",
    "print(f\"Valor p: {p_value:.4f}\")\n"
   ]
  },
  {
   "cell_type": "code",
   "execution_count": null,
   "id": "96b8585e",
   "metadata": {},
   "outputs": [],
   "source": [
    "# Boxplot comparativo\n",
    "plt.figure(figsize=(8, 6))\n",
    "sns.boxplot(x=\"experience_level\", y=\"satisfaction_score\", data=df, palette=\"Set2\")\n",
    "plt.title(\"Satisfacción por Nivel de Experiencia\")\n",
    "plt.xlabel(\"Nivel de Experiencia\")\n",
    "plt.ylabel(\"Puntaje de Satisfacción\")\n",
    "plt.tight_layout()\n",
    "plt.show()\n"
   ]
  },
  {
   "cell_type": "markdown",
   "id": "630a7768",
   "metadata": {},
   "source": [
    "**Interpretación:**\n",
    "- El análisis ANOVA permite comparar más de dos grupos.\n",
    "- Si el valor *p* es menor a 0.05, existe una diferencia significativa entre al menos dos niveles de experiencia."
   ]
  }
 ],
 "metadata": {},
 "nbformat": 4,
 "nbformat_minor": 5
}
