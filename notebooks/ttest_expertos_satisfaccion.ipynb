{
 "cells": [
  {
   "cell_type": "markdown",
   "id": "41735cd3",
   "metadata": {},
   "source": [
    "# Análisis de T-Test: Experto vs No Experto\n",
    "Este notebook analiza si existen diferencias significativas en la satisfacción de usuarios expertos y no expertos al usar un videojuego."
   ]
  },
  {
   "cell_type": "code",
   "execution_count": null,
   "id": "d6f7ba3a",
   "metadata": {},
   "outputs": [],
   "source": [
    "import pandas as pd\n",
    "import matplotlib.pyplot as plt\n",
    "import seaborn as sns\n",
    "from scipy.stats import ttest_ind\n",
    "\n",
    "# Configuración visual\n",
    "sns.set(style=\"whitegrid\")\n"
   ]
  },
  {
   "cell_type": "code",
   "execution_count": null,
   "id": "5d362ad2",
   "metadata": {},
   "outputs": [],
   "source": [
    "# Cargar datos desde GitHub\n",
    "url = \"https://raw.githubusercontent.com/ClaudixoPG/ESI_2025_S1/main/datasets/dataset_ttest_expertos_satisfaccion.xlsx\"\n",
    "df = pd.read_excel(url)\n",
    "df.head()\n"
   ]
  },
  {
   "cell_type": "code",
   "execution_count": null,
   "id": "c6ccf8b9",
   "metadata": {},
   "outputs": [],
   "source": [
    "# Verificar medias por grupo\n",
    "group_means = df.groupby(\"user_type\")[\"satisfaction_score\"].mean()\n",
    "print(\"Media por tipo de usuario:\")\n",
    "print(group_means)\n"
   ]
  },
  {
   "cell_type": "code",
   "execution_count": null,
   "id": "4b32dbeb",
   "metadata": {},
   "outputs": [],
   "source": [
    "# Separar grupos\n",
    "expertos = df[df[\"user_type\"] == \"Experto\"][\"satisfaction_score\"]\n",
    "no_expertos = df[df[\"user_type\"] == \"No experto\"][\"satisfaction_score\"]\n",
    "\n",
    "# Realizar T-Test\n",
    "t_stat, p_value = ttest_ind(expertos, no_expertos)\n",
    "\n",
    "print(f\"Estadístico t: {t_stat:.2f}\")\n",
    "print(f\"Valor p: {p_value:.4f}\")\n"
   ]
  },
  {
   "cell_type": "code",
   "execution_count": null,
   "id": "ef9b7b8b",
   "metadata": {},
   "outputs": [],
   "source": [
    "# Boxplot comparativo\n",
    "plt.figure(figsize=(8, 6))\n",
    "sns.boxplot(x=\"user_type\", y=\"satisfaction_score\", data=df, palette=\"Set2\")\n",
    "plt.title(\"Satisfacción por Tipo de Usuario\")\n",
    "plt.xlabel(\"Tipo de Usuario\")\n",
    "plt.ylabel(\"Puntaje de Satisfacción\")\n",
    "plt.tight_layout()\n",
    "plt.show()\n"
   ]
  },
  {
   "cell_type": "markdown",
   "id": "142aaf29",
   "metadata": {},
   "source": [
    "**Interpretación:**\n",
    "- El T-Test compara si las diferencias entre las medias de ambos grupos son estadísticamente significativas.\n",
    "- Un valor *p* menor a 0.05 sugiere una diferencia significativa en la satisfacción entre expertos y no expertos."
   ]
  }
 ],
 "metadata": {},
 "nbformat": 4,
 "nbformat_minor": 5
}
