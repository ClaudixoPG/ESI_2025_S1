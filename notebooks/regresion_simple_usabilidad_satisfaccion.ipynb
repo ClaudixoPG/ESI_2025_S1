{
 "cells": [
  {
   "cell_type": "markdown",
   "id": "5e99aa0c",
   "metadata": {},
   "source": [
    "# Regresión Lineal Simple: Usabilidad y Satisfacción\n",
    "Este notebook analiza cómo la puntuación de usabilidad puede predecir la satisfacción del usuario en un contexto de software interactivo o videojuegos."
   ]
  },
  {
   "cell_type": "code",
   "execution_count": null,
   "id": "16583fce",
   "metadata": {},
   "outputs": [],
   "source": [
    "import pandas as pd\n",
    "import matplotlib.pyplot as plt\n",
    "import seaborn as sns\n",
    "from sklearn.linear_model import LinearRegression\n",
    "\n",
    "sns.set(style=\"whitegrid\")\n"
   ]
  },
  {
   "cell_type": "code",
   "execution_count": null,
   "id": "c6829524",
   "metadata": {},
   "outputs": [],
   "source": [
    "# Cargar dataset desde GitHub\n",
    "url = \"https://raw.githubusercontent.com/ClaudixoPG/ESI_2025_S1/main/datasets/dataset_regresion_simple_usabilidad_satisfaccion.xlsx\"\n",
    "df = pd.read_excel(url)\n",
    "df.head()\n"
   ]
  },
  {
   "cell_type": "code",
   "execution_count": null,
   "id": "3992cfe9",
   "metadata": {},
   "outputs": [],
   "source": [
    "# Preparar datos\n",
    "X = df[[\"usability_score\"]]\n",
    "y = df[\"satisfaction_score\"]\n",
    "\n",
    "# Entrenar modelo\n",
    "model = LinearRegression()\n",
    "model.fit(X, y)\n",
    "\n",
    "# Coeficientes\n",
    "print(f\"Coeficiente (pendiente): {model.coef_[0]:.3f}\")\n",
    "print(f\"Intercepto: {model.intercept_:.3f}\")\n",
    "print(f\"R^2 Score: {model.score(X, y):.3f}\")\n"
   ]
  },
  {
   "cell_type": "code",
   "execution_count": null,
   "id": "6af77c89",
   "metadata": {},
   "outputs": [],
   "source": [
    "# Gráfico con línea de regresión\n",
    "plt.figure(figsize=(8, 6))\n",
    "sns.regplot(x=\"usability_score\", y=\"satisfaction_score\", data=df, line_kws={\"color\": \"red\"})\n",
    "plt.title(\"Regresión: Usabilidad → Satisfacción\")\n",
    "plt.xlabel(\"Puntaje de Usabilidad\")\n",
    "plt.ylabel(\"Puntaje de Satisfacción\")\n",
    "plt.tight_layout()\n",
    "plt.show()\n"
   ]
  },
  {
   "cell_type": "markdown",
   "id": "951d67b2",
   "metadata": {},
   "source": [
    "**Interpretación:**\n",
    "- El modelo indica cuánto aumenta la satisfacción cuando mejora la usabilidad.\n",
    "- Si el coeficiente es positivo, hay una relación directa.\n",
    "- El valor R² indica qué proporción de la variación en satisfacción puede explicarse por la usabilidad."
   ]
  }
 ],
 "metadata": {},
 "nbformat": 4,
 "nbformat_minor": 5
}
