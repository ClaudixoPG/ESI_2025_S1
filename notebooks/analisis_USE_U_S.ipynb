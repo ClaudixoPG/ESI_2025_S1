{
 "cells": [
  {
   "cell_type": "markdown",
   "id": "0b659947",
   "metadata": {},
   "source": [
    "# Análisis del Cuestionario USE – Subescalas Usefulness y Satisfaction\n",
    "Este notebook muestra cómo transformar una batería de ítems en métricas agregadas por subescala en el cuestionario USE. Nos enfocaremos en **Usefulness (U1–U8)** y **Satisfaction (S1–S6)**."
   ]
  },
  {
   "cell_type": "code",
   "execution_count": null,
   "id": "c4d42021",
   "metadata": {},
   "outputs": [],
   "source": [
    "import pandas as pd\n",
    "import matplotlib.pyplot as plt\n",
    "import seaborn as sns\n",
    "from scipy.stats import ttest_ind, pearsonr\n",
    "from sklearn.linear_model import LinearRegression\n",
    "\n",
    "sns.set(style=\"whitegrid\")\n"
   ]
  },
  {
   "cell_type": "code",
   "execution_count": null,
   "id": "702ac29f",
   "metadata": {},
   "outputs": [],
   "source": [
    "# Cargar archivo Excel desde GitHub\n",
    "url = \"https://raw.githubusercontent.com/ClaudixoPG/ESI_2025_S1/main/datasets/dataset_USE_30items_Likert.xlsx\"\n",
    "df = pd.read_excel(url)\n",
    "df.head()\n"
   ]
  },
  {
   "cell_type": "markdown",
   "id": "11135a40",
   "metadata": {},
   "source": [
    "## Cálculo de Subescalas\n",
    "Cada subescala se construye como el **promedio de sus ítems individuales**. Ejemplo:\n",
    "- Usefulness (U1 a U8)\n",
    "- Satisfaction (S1 a S6)\n"
   ]
  },
  {
   "cell_type": "code",
   "execution_count": null,
   "id": "29abb9a9",
   "metadata": {},
   "outputs": [],
   "source": [
    "# Promedios por subescala\n",
    "df[\"usefulness\"] = df[[f\"U{i}\" for i in range(1, 9)]].mean(axis=1)\n",
    "df[\"satisfaction\"] = df[[f\"S{i}\" for i in range(1, 7)]].mean(axis=1)\n",
    "\n",
    "df[[\"usefulness\", \"satisfaction\"]].head()\n"
   ]
  },
  {
   "cell_type": "code",
   "execution_count": null,
   "id": "c316582b",
   "metadata": {},
   "outputs": [],
   "source": [
    "# Correlación\n",
    "corr, p = pearsonr(df[\"usefulness\"], df[\"satisfaction\"])\n",
    "print(f\"Correlación entre Usefulness y Satisfaction: r = {corr:.2f}, p = {p:.4f}\")\n"
   ]
  },
  {
   "cell_type": "code",
   "execution_count": null,
   "id": "afef5bf2",
   "metadata": {},
   "outputs": [],
   "source": [
    "# Scatterplot\n",
    "plt.figure(figsize=(8, 6))\n",
    "sns.regplot(x=\"usefulness\", y=\"satisfaction\", data=df, ci=95, line_kws={\"color\": \"red\"})\n",
    "plt.title(\"Relación entre Usefulness y Satisfaction\")\n",
    "plt.xlabel(\"Usefulness (promedio U1–U8)\")\n",
    "plt.ylabel(\"Satisfaction (promedio S1–S6)\")\n",
    "plt.tight_layout()\n",
    "plt.show()\n"
   ]
  },
  {
   "cell_type": "markdown",
   "id": "0003dbeb",
   "metadata": {},
   "source": [
    "## Actividad\n",
    "Realiza los mismos pasos para las subescalas:\n",
    "- **Ease of Use** (`EOU1` a `EOU12`)\n",
    "- **Ease of Learning** (`EOL1` a `EOL4`)\n",
    "\n",
    "Luego, analiza cómo se relacionan con `satisfaction`."
   ]
  },
  {
   "cell_type": "markdown",
   "id": "d5da9886",
   "metadata": {},
   "source": [
    "### Interpretación de la Correlación\n",
    "- El coeficiente de Pearson indica **qué tan fuerte y en qué dirección** se relacionan las variables.\n",
    "- Un valor cercano a +1 indica una relación positiva fuerte.\n",
    "- El valor *p* indica si esa relación es estadísticamente significativa.\n",
    "\n",
    "**Ejemplo:** Si r = 0.65 y p < 0.05, hay una correlación positiva y significativa entre percepción de utilidad y satisfacción."
   ]
  },
  {
   "cell_type": "markdown",
   "id": "99d13f15",
   "metadata": {},
   "source": [
    "### Análisis Complementario: ¿Los expertos y no expertos difieren en satisfacción?"
   ]
  },
  {
   "cell_type": "code",
   "execution_count": null,
   "id": "d882f918",
   "metadata": {},
   "outputs": [],
   "source": [
    "# T-Test para comparar satisfacción entre expertos y no expertos\n",
    "expertos = df[df[\"audience_type\"] == \"Experto\"][\"satisfaction\"]\n",
    "no_expertos = df[df[\"audience_type\"] == \"No experto\"][\"satisfaction\"]\n",
    "t_stat, p_val = ttest_ind(expertos, no_expertos)\n",
    "\n",
    "print(f\"T-Test: diferencia en satisfacción\n",
    "T = {t_stat:.2f}, p = {p_val:.4f}\")\n"
   ]
  },
  {
   "cell_type": "markdown",
   "id": "d968f1d7",
   "metadata": {},
   "source": [
    "### Interpretación del T-Test\n",
    "- Compara las medias de satisfacción entre usuarios expertos y no expertos.\n",
    "- Si *p* < 0.05, la diferencia es significativa.\n",
    "- Este análisis permite detectar si el tipo de público afecta la experiencia reportada."
   ]
  }
 ],
 "metadata": {},
 "nbformat": 4,
 "nbformat_minor": 5
}
