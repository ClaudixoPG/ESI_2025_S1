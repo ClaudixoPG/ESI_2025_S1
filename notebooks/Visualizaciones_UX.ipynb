{
  "nbformat": 4,
  "nbformat_minor": 5,
  "metadata": {
    "colab": {
      "provenance": [],
      "include_colab_link": true
    },
    "language_info": {
      "name": "python"
    },
    "kernelspec": {
      "name": "python3",
      "display_name": "Python 3"
    }
  },
  "cells": [
    {
      "cell_type": "markdown",
      "metadata": {
        "id": "view-in-github",
        "colab_type": "text"
      },
      "source": [
        "<a href=\"https://colab.research.google.com/github/ClaudixoPG/ESI_2025_S1/blob/main/notebooks/Visualizaciones_UX.ipynb\" target=\"_parent\"><img src=\"https://colab.research.google.com/assets/colab-badge.svg\" alt=\"Open In Colab\"/></a>"
      ]
    },
    {
      "id": "002ab375",
      "cell_type": "markdown",
      "source": [
        "# Visualización UX: USE + Experiencia"
      ],
      "metadata": {
        "id": "002ab375"
      }
    },
    {
      "id": "a1745bd0",
      "cell_type": "code",
      "metadata": {
        "id": "a1745bd0"
      },
      "execution_count": null,
      "source": [
        "import pandas as pd\n",
        "import matplotlib.pyplot as plt\n",
        "import seaborn as sns\n",
        "import numpy as np\n",
        "\n",
        "# Cargar archivo corregido\n",
        "url = \"https://raw.githubusercontent.com/ClaudixoPG/ESI_2025_S1/main/datasets/Encuesta_UX_Simulada.xlsx\"\n",
        "df = pd.read_excel(url)\n",
        "df.head()"
      ],
      "outputs": []
    },
    {
      "id": "b722b94b",
      "cell_type": "markdown",
      "source": [
        "## Gráfico de barras: Promedio por dimensión USE"
      ],
      "metadata": {
        "id": "b722b94b"
      }
    },
    {
      "id": "b582dba3",
      "cell_type": "code",
      "metadata": {
        "id": "b582dba3"
      },
      "execution_count": null,
      "source": [
        "use_dims = ['Utilidad_USE', 'Facilidad_Uso_USE', 'Aprendizaje_USE', 'Satisfaccion_USE']\n",
        "means = df[use_dims].mean()\n",
        "\n",
        "plt.figure(figsize=(8,5))\n",
        "means.plot(kind='bar', color='skyblue')\n",
        "plt.title('Promedio por dimensión (USE)')\n",
        "plt.ylabel('Puntaje promedio')\n",
        "plt.ylim(0, 7)\n",
        "plt.grid(axis='y')\n",
        "plt.show()"
      ],
      "outputs": []
    },
    {
      "id": "b0beccfc",
      "cell_type": "markdown",
      "source": [
        "## Gráfico de barras agrupadas: dimensiones USE por experiencia"
      ],
      "metadata": {
        "id": "b0beccfc"
      }
    },
    {
      "id": "64a0760b",
      "cell_type": "code",
      "metadata": {
        "id": "64a0760b"
      },
      "execution_count": null,
      "source": [
        "df_melted = df.melt(id_vars='Experiencia', value_vars=use_dims, var_name='Dimensión', value_name='Puntaje')\n",
        "\n",
        "plt.figure(figsize=(9,6))\n",
        "sns.barplot(data=df_melted, x='Dimensión', y='Puntaje', hue='Experiencia')\n",
        "plt.title('Dimensiones USE por tipo de experiencia')\n",
        "plt.ylim(0, 7)\n",
        "plt.grid(axis='y')\n",
        "plt.show()"
      ],
      "outputs": []
    },
    {
      "id": "cd088324",
      "cell_type": "markdown",
      "source": [
        "## Gráfico de barras apiladas: distribución de experiencias"
      ],
      "metadata": {
        "id": "cd088324"
      }
    },
    {
      "id": "cf583160",
      "cell_type": "code",
      "metadata": {
        "id": "cf583160"
      },
      "execution_count": null,
      "source": [
        "# Orden personalizado de categorías\n",
        "orden_categorias = ['Mala', 'Regular', 'Buena']\n",
        "\n",
        "# Crear columna booleana\n",
        "df['Alta_Utilidad'] = df['Utilidad_USE'] > 5.5\n",
        "\n",
        "# Conteo cruzado\n",
        "conteo = df.groupby('Experiencia')['Alta_Utilidad'].value_counts().unstack().fillna(0)\n",
        "\n",
        "# Reordenar índice\n",
        "conteo = conteo.loc[orden_categorias]\n",
        "\n",
        "# Calcular proporciones\n",
        "proporciones = conteo.div(conteo.sum(axis=1), axis=0)\n",
        "\n",
        "# Colores personalizados (No = gris claro, Sí = color llamativo)\n",
        "colores = ['#4CAF50','lightgray']  # gris y verde fuerte\n",
        "\n",
        "# Gráfico\n",
        "proporciones.plot(kind='bar', stacked=True, color=colores, figsize=(7,5))\n",
        "plt.title('Proporción de alta satisfacción por tipo de experiencia')\n",
        "plt.ylabel('Proporción')\n",
        "plt.xlabel('Experiencia')\n",
        "plt.legend(title='Alta Utilidad', labels=['Sí', 'No'])\n",
        "plt.ylim(0, 1)\n",
        "plt.grid(axis='y')\n",
        "plt.show()\n"
      ],
      "outputs": []
    },
    {
      "id": "69eb080f",
      "cell_type": "markdown",
      "source": [
        "## Gráfico radar: Dimensiones USE (promedios)"
      ],
      "metadata": {
        "id": "69eb080f"
      }
    },
    {
      "id": "16e311e1",
      "cell_type": "code",
      "metadata": {
        "id": "16e311e1"
      },
      "execution_count": null,
      "source": [
        "from math import pi\n",
        "\n",
        "# Promedios\n",
        "labels = use_dims\n",
        "values = df[labels].mean().tolist()\n",
        "values += values[:1]\n",
        "\n",
        "# Ángulos\n",
        "angles = [n / float(len(labels)) * 2 * pi for n in range(len(labels))]\n",
        "angles += angles[:1]\n",
        "\n",
        "# Plot\n",
        "plt.figure(figsize=(8,8))\n",
        "ax = plt.subplot(111, polar=True)\n",
        "plt.xticks(angles[:-1], labels, color='grey', size=10)\n",
        "ax.plot(angles, values, linewidth=2, linestyle='solid')\n",
        "ax.fill(angles, values, 'lightgreen', alpha=0.4)\n",
        "#plt.title('Perfil promedio (dimensiones USE)')\n",
        "plt.show()"
      ],
      "outputs": []
    }
  ]
}