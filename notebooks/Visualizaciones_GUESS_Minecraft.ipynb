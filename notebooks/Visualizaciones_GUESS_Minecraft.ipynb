{
 "cells": [
  {
   "cell_type": "markdown",
   "id": "c7d7368b",
   "metadata": {},
   "source": [
    "# Visualización de resultados GUESS (formato por columnas) - Minecraft"
   ]
  },
  {
   "cell_type": "code",
   "execution_count": null,
   "id": "ad905fd5",
   "metadata": {},
   "outputs": [],
   "source": [
    "import pandas as pd\n",
    "import matplotlib.pyplot as plt\n",
    "import seaborn as sns\n",
    "import numpy as np\n",
    "from math import pi\n",
    "sns.set(style='whitegrid')"
   ]
  },
  {
   "cell_type": "code",
   "execution_count": null,
   "id": "e40372c3",
   "metadata": {},
   "outputs": [],
   "source": [
    "df = pd.read_excel('Minecraft_Evaluacion_GUESS_Corregido.xlsx')\n",
    "df.head()"
   ]
  },
  {
   "cell_type": "code",
   "execution_count": null,
   "id": "79e6ff62",
   "metadata": {},
   "outputs": [],
   "source": [
    "# Promedios por versión\n",
    "mean_scores = df.groupby('version').mean(numeric_only=True).reset_index()\n",
    "mean_scores"
   ]
  },
  {
   "cell_type": "code",
   "execution_count": null,
   "id": "96bc29dc",
   "metadata": {},
   "outputs": [],
   "source": [
    "# Gráfico de barras agrupadas por subescala\n",
    "mean_melted = mean_scores.melt(id_vars='version', var_name='subescala', value_name='puntaje')\n",
    "plt.figure(figsize=(12, 6))\n",
    "sns.barplot(data=mean_melted, x='subescala', y='puntaje', hue='version')\n",
    "plt.title('Promedio de puntuación por subescala GUESS y versión de Minecraft')\n",
    "plt.xticks(rotation=45)\n",
    "plt.ylabel('Puntaje promedio (1 a 7)')\n",
    "plt.xlabel('Subescala')\n",
    "plt.legend(title='Versión')\n",
    "plt.tight_layout()\n",
    "plt.show()"
   ]
  },
  {
   "cell_type": "code",
   "execution_count": null,
   "id": "e8eff369",
   "metadata": {},
   "outputs": [],
   "source": [
    "# Radar chart para cada versión\n",
    "def radar_chart(row, title):\n",
    "    labels = row.index.tolist()\n",
    "    stats = row.values.tolist()\n",
    "    angles = [n / float(len(labels)) * 2 * pi for n in range(len(labels))]\n",
    "    stats += stats[:1]\n",
    "    angles += angles[:1]\n",
    "\n",
    "    fig, ax = plt.subplots(figsize=(6,6), subplot_kw=dict(polar=True))\n",
    "    ax.plot(angles, stats, linewidth=2, linestyle='solid')\n",
    "    ax.fill(angles, stats, alpha=0.25)\n",
    "    ax.set_xticks(angles[:-1])\n",
    "    ax.set_xticklabels(labels, fontsize=9)\n",
    "    ax.set_yticklabels([])\n",
    "    ax.set_title(title, size=14, y=1.1)\n",
    "    plt.show()\n",
    "\n",
    "# Graficar por versión\n",
    "for _, row in mean_scores.set_index('version').iterrows():\n",
    "    radar_chart(row, f'Subescalas GUESS - {row.name}')"
   ]
  }
 ],
 "metadata": {},
 "nbformat": 4,
 "nbformat_minor": 5
}