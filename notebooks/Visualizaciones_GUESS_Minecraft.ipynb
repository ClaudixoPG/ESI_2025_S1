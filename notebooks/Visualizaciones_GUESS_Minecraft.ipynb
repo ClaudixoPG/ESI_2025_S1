{
 "cells": [
  {
   "cell_type": "markdown",
   "id": "bcc08abc",
   "metadata": {},
   "source": [
    "# Visualización de resultados GUESS - Minecraft (Comparación Realista)"
   ]
  },
  {
   "cell_type": "code",
   "execution_count": null,
   "id": "eb627b05",
   "metadata": {},
   "outputs": [],
   "source": [
    "import pandas as pd\n",
    "import matplotlib.pyplot as plt\n",
    "import seaborn as sns\n",
    "import numpy as np\n",
    "from math import pi\n",
    "sns.set(style='whitegrid')"
   ]
  },
  {
   "cell_type": "code",
   "execution_count": null,
   "id": "465f2941",
   "metadata": {},
   "outputs": [],
   "source": [
    "df = pd.read_excel('Minecraft_Evaluacion_GUESS_Realista_Varied.xlsx')\n",
    "df.head()"
   ]
  },
  {
   "cell_type": "code",
   "execution_count": null,
   "id": "e309dcde",
   "metadata": {},
   "outputs": [],
   "source": [
    "mean_scores = df.drop(columns='usuario').groupby('version').mean(numeric_only=True).reset_index()\n",
    "mean_scores"
   ]
  },
  {
   "cell_type": "code",
   "execution_count": null,
   "id": "12ad2536",
   "metadata": {},
   "outputs": [],
   "source": [
    "# Gráfico de barras agrupadas por subescala\n",
    "mean_melted = mean_scores.melt(id_vars='version', var_name='subescala', value_name='puntaje')\n",
    "plt.figure(figsize=(12, 6))\n",
    "sns.barplot(data=mean_melted, x='subescala', y='puntaje', hue='version')\n",
    "plt.title('Promedio de puntuación por subescala GUESS y versión de Minecraft')\n",
    "plt.xticks(rotation=45)\n",
    "plt.ylabel('Puntaje promedio (1 a 7)')\n",
    "plt.xlabel('Subescala')\n",
    "plt.legend(title='Versión')\n",
    "plt.tight_layout()\n",
    "plt.show()"
   ]
  },
  {
   "cell_type": "code",
   "execution_count": null,
   "id": "7a23de2c",
   "metadata": {},
   "outputs": [],
   "source": [
    "# Radar chart comparativo con todas las versiones\n",
    "labels = mean_scores.columns[1:].tolist()\n",
    "angles = [n / float(len(labels)) * 2 * pi for n in range(len(labels))]\n",
    "angles += angles[:1]\n",
    "\n",
    "plt.figure(figsize=(8, 8))\n",
    "for i, row in mean_scores.iterrows():\n",
    "    stats = row[1:].tolist()\n",
    "    stats += stats[:1]\n",
    "    plt.polar(angles, stats, label=row['version'], linewidth=2)\n",
    "\n",
    "plt.xticks(angles[:-1], labels, fontsize=9)\n",
    "plt.yticks([])\n",
    "plt.title('Comparación de subescalas GUESS entre versiones de Minecraft', size=14, y=1.1)\n",
    "plt.legend(loc='upper right', bbox_to_anchor=(1.3, 1.1))\n",
    "plt.tight_layout()\n",
    "plt.show()"
   ]
  }
 ],
 "metadata": {},
 "nbformat": 4,
 "nbformat_minor": 5
}