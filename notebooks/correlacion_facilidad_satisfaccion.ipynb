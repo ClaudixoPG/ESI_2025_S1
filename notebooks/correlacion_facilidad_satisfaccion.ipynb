{
 "cells": [
  {
   "cell_type": "markdown",
   "id": "3071311f",
   "metadata": {},
   "source": [
    "# Análisis de Correlación: Facilidad de Uso vs Satisfacción\n",
    "Este notebook analiza si existe una correlación entre los puntajes de facilidad de uso y satisfacción reportados por los usuarios de un videojuego."
   ]
  },
  {
   "cell_type": "code",
   "execution_count": null,
   "id": "ff26a60a",
   "metadata": {},
   "outputs": [],
   "source": [
    "import pandas as pd\n",
    "import matplotlib.pyplot as plt\n",
    "import seaborn as sns\n",
    "from scipy.stats import pearsonr\n",
    "\n",
    "# Configuración visual\n",
    "sns.set(style=\"whitegrid\")\n"
   ]
  },
  {
   "cell_type": "code",
   "execution_count": null,
   "id": "5a7f5078",
   "metadata": {},
   "outputs": [],
   "source": [
    "# Cargar archivo (debe estar en la misma carpeta o en una ruta accesible)\n",
    "df = pd.read_excel(\"dataset_correlacion_facilidad_satisfaccion.xlsx\")\n",
    "\n",
    "# Ver las primeras filas\n",
    "df.head()\n"
   ]
  },
  {
   "cell_type": "code",
   "execution_count": null,
   "id": "05cafad5",
   "metadata": {},
   "outputs": [],
   "source": [
    "# Calcular correlación de Pearson\n",
    "corr, p_value = pearsonr(df['usability_score'], df['satisfaction_score'])\n",
    "\n",
    "print(f\"Coeficiente de correlación de Pearson: {corr:.2f}\")\n",
    "print(f\"Valor p: {p_value:.4f}\")\n"
   ]
  },
  {
   "cell_type": "code",
   "execution_count": null,
   "id": "2b34e1d5",
   "metadata": {},
   "outputs": [],
   "source": [
    "# Visualización con gráfico de dispersión\n",
    "plt.figure(figsize=(8, 6))\n",
    "sns.regplot(data=df, x=\"usability_score\", y=\"satisfaction_score\", ci=95, line_kws={'color': 'red'})\n",
    "plt.title(\"Correlación entre Facilidad de Uso y Satisfacción\")\n",
    "plt.xlabel(\"Facilidad de Uso\")\n",
    "plt.ylabel(\"Satisfacción\")\n",
    "plt.tight_layout()\n",
    "plt.show()\n"
   ]
  },
  {
   "cell_type": "markdown",
   "id": "2766aa8b",
   "metadata": {},
   "source": [
    "**Interpretación:**\n",
    "- El coeficiente de Pearson indica el grado de asociación lineal.\n",
    "- Un valor cercano a +1 indica una relación positiva fuerte.\n",
    "- El valor *p* indica si la correlación es estadísticamente significativa."
   ]
  }
 ],
 "metadata": {},
 "nbformat": 4,
 "nbformat_minor": 5
}
