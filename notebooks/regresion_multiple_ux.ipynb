{
 "cells": [
  {
   "cell_type": "markdown",
   "id": "ed26cb48",
   "metadata": {},
   "source": [
    "# Regresión Lineal Múltiple: Usabilidad y Jugabilidad → Satisfacción\n",
    "Este notebook analiza si los puntajes de usabilidad y jugabilidad pueden predecir la satisfacción del usuario en un videojuego o software interactivo."
   ]
  },
  {
   "cell_type": "code",
   "execution_count": null,
   "id": "f71825f8",
   "metadata": {},
   "outputs": [],
   "source": [
    "import pandas as pd\n",
    "import matplotlib.pyplot as plt\n",
    "import seaborn as sns\n",
    "from sklearn.linear_model import LinearRegression\n",
    "\n",
    "sns.set(style=\"whitegrid\")\n"
   ]
  },
  {
   "cell_type": "code",
   "execution_count": null,
   "id": "d82063ea",
   "metadata": {},
   "outputs": [],
   "source": [
    "# Cargar dataset desde GitHub\n",
    "url = \"https://raw.githubusercontent.com/ClaudixoPG/ESI_2025_S1/main/datasets/dataset_regresion_multiple_ux.xlsx\"\n",
    "df = pd.read_excel(url)\n",
    "df.head()\n"
   ]
  },
  {
   "cell_type": "code",
   "execution_count": null,
   "id": "53295e45",
   "metadata": {},
   "outputs": [],
   "source": [
    "# Preparar datos\n",
    "X = df[[\"usability_score\", \"gameplay_score\"]]\n",
    "y = df[\"satisfaction_score\"]\n",
    "\n",
    "# Entrenar modelo\n",
    "model = LinearRegression()\n",
    "model.fit(X, y)\n",
    "\n",
    "# Coeficientes\n",
    "print(\"Coeficientes del modelo:\")\n",
    "for feature, coef in zip(X.columns, model.coef_):\n",
    "    print(f\"- {feature}: {coef:.3f}\")\n",
    "print(f\"Intercepto: {model.intercept_:.3f}\")\n",
    "print(f\"R^2 Score: {model.score(X, y):.3f}\")\n"
   ]
  },
  {
   "cell_type": "markdown",
   "id": "98b6e2fd",
   "metadata": {},
   "source": [
    "**Interpretación:**\n",
    "- El modelo estima cuánto contribuye cada variable (usabilidad y jugabilidad) a la satisfacción.\n",
    "- Un coeficiente positivo indica una relación directa.\n",
    "- El R² muestra qué tan bien el modelo explica la variación en la satisfacción."
   ]
  }
 ],
 "metadata": {},
 "nbformat": 4,
 "nbformat_minor": 5
}
